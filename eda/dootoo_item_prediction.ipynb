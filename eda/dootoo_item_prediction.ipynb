{
 "cells": [
  {
   "cell_type": "markdown",
   "id": "b32976d9",
   "metadata": {},
   "source": [
    "<img src=\"https://dootoo.app/images/thoughtswork_banner.png\"/>"
   ]
  },
  {
   "cell_type": "markdown",
   "id": "a3fbce96",
   "metadata": {},
   "source": [
    "# DataTalks.club MLOps Zoomcamp Final Project: Task Completion Prediction"
   ]
  },
  {
   "cell_type": "markdown",
   "id": "9cc2c714",
   "metadata": {},
   "source": [
    "* **Author:** Paul Tongyoo\n",
    "* **Contact:** Message me on <a href=\"https://www.linkedin.com/in/paultongyoo/\">LinkedIn</a>\n",
    "* **Date:** July 7, 2025\n",
    "* **MLOps Zoomcamp Info:** <a href=\"https://datatalks.club/blog/mlops-zoomcamp.html\">MLOps Zoomcamp: MLOps Course & Certification</a>"
   ]
  },
  {
   "cell_type": "markdown",
   "id": "ab716a21",
   "metadata": {},
   "source": [
    "## Table of Contents"
   ]
  },
  {
   "cell_type": "markdown",
   "id": "c99b83f0",
   "metadata": {},
   "source": [
    "1. [Source Data](#Source-Data)\n",
    "    1. [Data Set Creation](#Data-Set-Creation)\n",
    "1. [Exploratory Data Analysis](#Exploratory-Data-Analysis)\n",
    "    1. [Target Analysis (\"is_done\")](#Target-Analysis-is_done)\n",
    "    1. [Parent/Child Status](#ParentChild-Status)\n",
    "    1. [Task Publicity](#Task-Publicity)\n",
    "1. [Data Preparation](#Data-Preparation)"
   ]
  },
  {
   "cell_type": "code",
   "execution_count": 4,
   "id": "f1dbc32e",
   "metadata": {},
   "outputs": [],
   "source": [
    "import json\n",
    "import os\n",
    "import re\n",
    "\n",
    "import matplotlib.pyplot as plt\n",
    "import pandas as pd\n",
    "from dotenv import load_dotenv\n",
    "from sklearn.model_selection import train_test_split\n",
    "from sqlalchemy import create_engine"
   ]
  },
  {
   "cell_type": "markdown",
   "id": "61d9ef68",
   "metadata": {},
   "source": [
    "## Source Data"
   ]
  },
  {
   "cell_type": "code",
   "execution_count": 5,
   "id": "1a531683",
   "metadata": {},
   "outputs": [],
   "source": [
    "# Create DB load function for later incorporation into pipeline\n",
    "\n",
    "\n",
    "def load_latest_db_data():\n",
    "    \"\"\"Load data from the database and save it to a Parquet file.\"\"\"\n",
    "    load_dotenv()\n",
    "\n",
    "    db_host = os.getenv(\"DB_HOST\")\n",
    "    db_port = os.getenv(\"DB_PORT\")\n",
    "    db_name = os.getenv(\"DB_NAME\")\n",
    "    db_user = os.getenv(\"DB_USER\")\n",
    "    db_password = os.getenv(\"DB_PASSWORD\")\n",
    "\n",
    "    db_url = f\"postgresql://{db_user}:{db_password}@{db_host}:{db_port}/{db_name}\"\n",
    "    engine = create_engine(db_url)\n",
    "\n",
    "    year_ago_cutoff_date = pd.Timestamp.now() - pd.DateOffset(years=1)\n",
    "    first_done_at = pd.read_sql(\n",
    "        \"\"\"\n",
    "        SELECT MIN(\"doneAt\") AS first_doneAt\n",
    "        FROM public.\"Item\"\n",
    "        WHERE \"doneAt\" IS NOT NULL\n",
    "        \"\"\",\n",
    "        engine,\n",
    "    ).iloc[0][\"first_doneAt\"]\n",
    "    tasks_df = pd.read_sql(\n",
    "        \"\"\"\n",
    "        SELECT * FROM public.\\\"Item\\\" \n",
    "        WHERE \"createdAt\" >= %(cutoff_date)s\n",
    "          AND \"createdAt\" >= %(first_doneAt)s\n",
    "        \"\"\",\n",
    "        engine,\n",
    "        params={\"cutoff_date\": year_ago_cutoff_date, \"first_doneAt\": first_done_at},\n",
    "    )\n",
    "\n",
    "    # Save to Parquet file\n",
    "    print(\"Saving tasks to Parquet file...\")\n",
    "    tasks_df.to_parquet(\"dootoo_item_prediction.parquet\", index=False)\n",
    "    print(\"Tasks saved to dootoo_item_prediction.parquet.\")\n",
    "\n",
    "    return tasks_df"
   ]
  },
  {
   "cell_type": "code",
   "execution_count": 6,
   "id": "d2524ce1",
   "metadata": {},
   "outputs": [
    {
     "name": "stdout",
     "output_type": "stream",
     "text": [
      "Loading tasks from Parquet file...\n",
      "Loaded 332 tasks from Parquet file.\n"
     ]
    }
   ],
   "source": [
    "if not os.path.exists(\"dootoo_item_prediction.parquet\"):\n",
    "    print(\"Parquet file not found. Loading from database...\")\n",
    "    full_tasks_df = load_latest_db_data()\n",
    "else:\n",
    "    print(\"Loading tasks from Parquet file...\")\n",
    "    full_tasks_df = pd.read_parquet(\"dootoo_item_prediction.parquet\")\n",
    "    print(f\"Loaded {len(full_tasks_df)} tasks from Parquet file.\")"
   ]
  },
  {
   "cell_type": "code",
   "execution_count": 7,
   "id": "95bb9f40",
   "metadata": {},
   "outputs": [
    {
     "data": {
      "text/plain": [
       "(332, 21)"
      ]
     },
     "execution_count": 7,
     "metadata": {},
     "output_type": "execute_result"
    }
   ],
   "source": [
    "full_tasks_df.shape"
   ]
  },
  {
   "cell_type": "markdown",
   "id": "fc0f72ad",
   "metadata": {},
   "source": [
    "### Data Set Creation"
   ]
  },
  {
   "cell_type": "code",
   "execution_count": 8,
   "id": "b6e93f38",
   "metadata": {},
   "outputs": [],
   "source": [
    "X_train, X_test, y_train, y_test = train_test_split(\n",
    "    full_tasks_df.drop(columns=[\"is_done\"]),\n",
    "    full_tasks_df[\"is_done\"],\n",
    "    test_size=0.2,\n",
    "    random_state=42,\n",
    "    stratify=full_tasks_df[\"is_done\"],\n",
    ")"
   ]
  },
  {
   "cell_type": "code",
   "execution_count": 9,
   "id": "c1dabc98",
   "metadata": {},
   "outputs": [
    {
     "data": {
      "text/plain": [
       "((265, 20), (67, 20), (265,), (67,))"
      ]
     },
     "execution_count": 9,
     "metadata": {},
     "output_type": "execute_result"
    }
   ],
   "source": [
    "X_train.shape, X_test.shape, y_train.shape, y_test.shape"
   ]
  },
  {
   "cell_type": "markdown",
   "id": "c08a33b0",
   "metadata": {},
   "source": [
    "## Exploratory Data Analysis"
   ]
  },
  {
   "cell_type": "code",
   "execution_count": 10,
   "id": "1949e164",
   "metadata": {},
   "outputs": [],
   "source": [
    "# Combine X_train and y_train for easier analysis\n",
    "combined_df = pd.concat([X_train, y_train], axis=1)"
   ]
  },
  {
   "cell_type": "markdown",
   "id": "0b0a7a87",
   "metadata": {},
   "source": [
    "### Target Analysis (\"is_done\")"
   ]
  },
  {
   "cell_type": "markdown",
   "id": "2134e73e",
   "metadata": {},
   "source": [
    "* Task completion rate is 36.6% completed\n",
    "* Class imbalance necessitates tuning for both Precision and Recall\n",
    "    * Model risks bias towards majority (`is_done==0`) class (low recall of `is_done=1`)"
   ]
  },
  {
   "cell_type": "code",
   "execution_count": 11,
   "id": "4d588ce1",
   "metadata": {},
   "outputs": [
    {
     "name": "stdout",
     "output_type": "stream",
     "text": [
      "Task Completion Rate: 36.6%\n"
     ]
    },
    {
     "data": {
      "image/png": "[encoded data removed]",
      "text/plain": [
       "<Figure size 640x480 with 1 Axes>"
      ]
     },
     "metadata": {},
     "output_type": "display_data"
    }
   ],
   "source": [
    "counts = combined_df[\"is_done\"].value_counts()\n",
    "print(f\"Task Completion Rate: {combined_df['is_done'].mean() * 100:.1f}%\")\n",
    "counts.plot(kind=\"bar\", title=\"Task Completion Distribution\")\n",
    "for i in range(len(counts)):\n",
    "    plt.text(i, counts.iloc[i] + 20, counts.iloc[i], ha=\"center\")\n",
    "plt.xlabel(\"is_done\")\n",
    "plt.ylabel(\"Count\")\n",
    "plt.show()"
   ]
  },
  {
   "cell_type": "markdown",
   "id": "225ea014",
   "metadata": {},
   "source": [
    "*  We'll filter data set date range to start from the date of the first task completion to ensure we only model tasks that were created after the task completion feature was made available in the app.\n",
    "* **First Task Created At:** `2024-11-08 07:26:26`\n",
    "* **First Task Completed At:** `2025-01-15 13:30:37`"
   ]
  },
  {
   "cell_type": "markdown",
   "id": "5fbeb00b",
   "metadata": {},
   "source": [
    "### Parent/Child Status"
   ]
  },
  {
   "cell_type": "code",
   "execution_count": 12,
   "id": "0680755a",
   "metadata": {},
   "outputs": [
    {
     "data": {
      "image/png": "[encoded data removed]",
      "text/plain": [
       "<Figure size 640x480 with 1 Axes>"
      ]
     },
     "metadata": {},
     "output_type": "display_data"
    }
   ],
   "source": [
    "combined_df[\"has_parent\"] = combined_df[\"parent_item_id\"].notnull()\n",
    "counts = combined_df[\"has_parent\"].value_counts()\n",
    "counts.plot(kind=\"bar\", title='\"Tasks w/ Parent\" Distribution')\n",
    "for i in range(len(counts)):\n",
    "    plt.text(i, counts.iloc[i] + 20, counts.iloc[i], ha=\"center\")\n",
    "plt.xlabel(\"has_parent\")\n",
    "plt.ylabel(\"Count\")\n",
    "plt.show()"
   ]
  },
  {
   "cell_type": "markdown",
   "id": "7d9ffecb",
   "metadata": {},
   "source": [
    "### Task Publicity"
   ]
  },
  {
   "cell_type": "code",
   "execution_count": 13,
   "id": "4fbf591f",
   "metadata": {},
   "outputs": [
    {
     "data": {
      "image/png": "[encoded data removed]",
      "text/plain": [
       "<Figure size 640x480 with 1 Axes>"
      ]
     },
     "metadata": {},
     "output_type": "display_data"
    }
   ],
   "source": [
    "counts = combined_df[\"is_public\"].value_counts()\n",
    "counts.plot(kind=\"bar\", title=\"Public Task Distribution\")\n",
    "for i in range(len(counts)):\n",
    "    plt.text(i, counts.iloc[i] + 20, counts.iloc[i], ha=\"center\")\n",
    "plt.xlabel(\"is_public\")\n",
    "plt.ylabel(\"Count\")\n",
    "plt.show()"
   ]
  },
  {
   "cell_type": "markdown",
   "id": "20c36fdb",
   "metadata": {},
   "source": [
    "## Data Preparation"
   ]
  },
  {
   "cell_type": "code",
   "execution_count": 14,
   "id": "9dcbc5de",
   "metadata": {},
   "outputs": [],
   "source": [
    "def prepare_data(tasks_df):\n",
    "    \"\"\"Prepare the data for modeling.\"\"\"\n",
    "\n",
    "    # Extract date and time features from 'createdAt'\n",
    "    tasks_df[\"createdAt\"] = pd.to_datetime(tasks_df[\"createdAt\"])\n",
    "    tasks_df[\"year\"] = tasks_df[\"createdAt\"].dt.year\n",
    "    tasks_df[\"month\"] = tasks_df[\"createdAt\"].dt.month\n",
    "    tasks_df[\"day\"] = tasks_df[\"createdAt\"].dt.day\n",
    "    tasks_df[\"hour\"] = tasks_df[\"createdAt\"].dt.hour  # 24-hour format\n",
    "    tasks_df[\"day_of_week\"] = tasks_df[\"createdAt\"].dt.dayofweek  # 0=Monday, 6=Sunday\n",
    "\n",
    "    return tasks_df"
   ]
  },
  {
   "cell_type": "markdown",
   "id": "c34fafb7",
   "metadata": {},
   "source": [
    "------"
   ]
  },
  {
   "cell_type": "code",
   "execution_count": 18,
   "id": "1871ce2e",
   "metadata": {},
   "outputs": [
    {
     "name": "stdout",
     "output_type": "stream",
     "text": [
      "1. [Table of Contents](#Table-of-Contents)\n",
      "1. [Source Data](#Source-Data)\n",
      "    1. [Data Set Creation](#Data-Set-Creation)\n",
      "1. [Exploratory Data Analysis](#Exploratory-Data-Analysis)\n",
      "    1. [Target Analysis (\"is_done\")](#Target-Analysis-is_done)\n",
      "    1. [Parent/Child Status](#ParentChild-Status)\n",
      "    1. [Task Publicity](#Task-Publicity)\n",
      "1. [Data Preparation](#Data-Preparation)\n"
     ]
    }
   ],
   "source": [
    "def slugify(text):\n",
    "    text = text.strip()\n",
    "    text = re.sub(r\"[^\\w\\s\\-]\", \"\", text)  # allow (), - and alphanumerics\n",
    "    return re.sub(r\"[\\s]+\", \"-\", text)\n",
    "\n",
    "\n",
    "def extract_headings(ipynb_path):\n",
    "    with open(ipynb_path, \"r\", encoding=\"utf-8\") as f:\n",
    "        nb = json.load(f)\n",
    "\n",
    "    toc_lines = []  # [\"## Table of Contents\\n\"]\n",
    "    for cell in nb[\"cells\"]:\n",
    "        if cell[\"cell_type\"] == \"markdown\":\n",
    "            for line in cell[\"source\"]:\n",
    "                match = re.match(r\"^(#{2,6})\\s+(.*)\", line)\n",
    "                if match:\n",
    "                    level = len(match.group(1)) - 1  # offset for nesting\n",
    "                    title = match.group(2).strip()\n",
    "                    anchor = slugify(title)\n",
    "                    indent = \"    \" * (level - 1)\n",
    "                    toc_lines.append(f\"{indent}1. [{title}](#{anchor})\")\n",
    "\n",
    "    return \"\\n\".join(toc_lines)\n",
    "\n",
    "\n",
    "# Example usage:\n",
    "TOC = extract_headings(\"dootoo_item_prediction.ipynb\")\n",
    "print(TOC)"
   ]
  },
  {
   "cell_type": "code",
   "execution_count": null,
   "id": "e289c07e",
   "metadata": {},
   "outputs": [],
   "source": []
  }
 ],
 "metadata": {
  "kernelspec": {
   "display_name": "dootoo_item_prediction-bxxed46J",
   "language": "python",
   "name": "python3"
  },
  "language_info": {
   "codemirror_mode": {
    "name": "ipython",
    "version": 3
   },
   "file_extension": ".py",
   "mimetype": "text/x-python",
   "name": "python",
   "nbconvert_exporter": "python",
   "pygments_lexer": "ipython3",
   "version": "3.12.3"
  }
 },
 "nbformat": 4,
 "nbformat_minor": 5
}
