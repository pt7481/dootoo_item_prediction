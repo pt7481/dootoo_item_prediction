{
 "cells": [
  {
   "cell_type": "markdown",
   "id": "b32976d9",
   "metadata": {},
   "source": [
    "<img src=\"https://dootoo.app/images/thoughtswork_banner.png\"/>"
   ]
  },
  {
   "cell_type": "markdown",
   "id": "a3fbce96",
   "metadata": {},
   "source": [
    "# DataTalks.club MLOps Zoomcamp Final Project: Task Completion Prediction"
   ]
  },
  {
   "cell_type": "markdown",
   "id": "9cc2c714",
   "metadata": {},
   "source": [
    "* **Author:** Paul Tongyoo\n",
    "* **Contact:** Message me on <a href=\"https://www.linkedin.com/in/paultongyoo/\">LinkedIn</a>\n",
    "* **Date:** July 7, 2025\n",
    "* **MLOps Zoomcamp Info:** <a href=\"https://datatalks.club/blog/mlops-zoomcamp.html\">MLOps Zoomcamp: MLOps Course & Certification</a>"
   ]
  },
  {
   "cell_type": "markdown",
   "id": "ab716a21",
   "metadata": {},
   "source": [
    "## Table of Contents"
   ]
  },
  {
   "cell_type": "markdown",
   "id": "c99b83f0",
   "metadata": {},
   "source": [
    "1. [Project Summary](#Project-Summary)\n",
    "    1. [What I Did](#What-I-Did)\n",
    "    1. [What I Learned](#What-I-Learned)\n",
    "    1. [Next Steps](#Next-Steps)\n",
    "1. [Source Data](#Source-Data)\n",
    "    1. [Data Set Creation](#Data-Set-Creation)\n",
    "1. [Exploratory Data Analysis](#Exploratory-Data-Analysis)\n",
    "    1. [Target Analysis (\"is_done\")](#Target-Analysis-is_done)\n",
    "    1. [Parent/Child Status](#ParentChild-Status)\n",
    "    1. [Public Status](#Public-Status)"
   ]
  },
  {
   "cell_type": "markdown",
   "id": "043b748d",
   "metadata": {},
   "source": [
    "## Project Summary"
   ]
  },
  {
   "cell_type": "code",
   "execution_count": 1,
   "id": "5c142bc0",
   "metadata": {},
   "outputs": [],
   "source": [
    "# TODO"
   ]
  },
  {
   "cell_type": "markdown",
   "id": "0ad60844",
   "metadata": {},
   "source": [
    "### What I Did"
   ]
  },
  {
   "cell_type": "code",
   "execution_count": 2,
   "id": "cfe21115",
   "metadata": {},
   "outputs": [],
   "source": [
    "# TODO"
   ]
  },
  {
   "cell_type": "markdown",
   "id": "228c049c",
   "metadata": {
    "vscode": {
     "languageId": "plaintext"
    }
   },
   "source": [
    "### What I Learned"
   ]
  },
  {
   "cell_type": "code",
   "execution_count": 3,
   "id": "18f5edfe",
   "metadata": {},
   "outputs": [],
   "source": [
    "# TODO"
   ]
  },
  {
   "cell_type": "markdown",
   "id": "4a43e913",
   "metadata": {
    "vscode": {
     "languageId": "plaintext"
    }
   },
   "source": [
    "### Next Steps"
   ]
  },
  {
   "cell_type": "code",
   "execution_count": 4,
   "id": "882a3884",
   "metadata": {},
   "outputs": [],
   "source": [
    "# TODO"
   ]
  },
  {
   "cell_type": "markdown",
   "id": "7d80b06c",
   "metadata": {
    "vscode": {
     "languageId": "plaintext"
    }
   },
   "source": [
    "-------------"
   ]
  },
  {
   "cell_type": "code",
   "execution_count": 26,
   "id": "f1dbc32e",
   "metadata": {},
   "outputs": [],
   "source": [
    "from dotenv import load_dotenv\n",
    "import os\n",
    "from sqlalchemy import create_engine\n",
    "import pandas as pd\n",
    "import matplotlib.pyplot as plt\n",
    "import seaborn as sns\n",
    "from sklearn.model_selection import train_test_split\n"
   ]
  },
  {
   "cell_type": "markdown",
   "id": "bee03f26",
   "metadata": {},
   "source": [
    "## Source Data"
   ]
  },
  {
   "cell_type": "code",
   "execution_count": 11,
   "id": "1a531683",
   "metadata": {},
   "outputs": [],
   "source": [
    "# Load environment variables from .env file\n",
    "load_dotenv()\n",
    "\n",
    "DB_HOST = os.getenv(\"DB_HOST\")\n",
    "DB_PORT = os.getenv(\"DB_PORT\")\n",
    "DB_NAME = os.getenv(\"DB_NAME\")\n",
    "DB_USER = os.getenv(\"DB_USER\")\n",
    "DB_PASSWORD = os.getenv(\"DB_PASSWORD\")\n",
    "\n",
    "db_url = f\"postgresql://{DB_USER}:{DB_PASSWORD}@{DB_HOST}:{DB_PORT}/{DB_NAME}\"\n",
    "engine = create_engine(db_url)\n",
    "tasks_df = pd.read_sql(\"SELECT * FROM public.\\\"Item\\\"\", engine)"
   ]
  },
  {
   "cell_type": "code",
   "execution_count": 12,
   "id": "95bb9f40",
   "metadata": {},
   "outputs": [
    {
     "data": {
      "text/plain": [
       "(2481, 21)"
      ]
     },
     "execution_count": 12,
     "metadata": {},
     "output_type": "execute_result"
    }
   ],
   "source": [
    "tasks_df.shape"
   ]
  },
  {
   "cell_type": "code",
   "execution_count": 13,
   "id": "d8eaed87",
   "metadata": {},
   "outputs": [
    {
     "name": "stdout",
     "output_type": "stream",
     "text": [
      "<class 'pandas.core.frame.DataFrame'>\n",
      "RangeIndex: 2481 entries, 0 to 2480\n",
      "Data columns (total 21 columns):\n",
      " #   Column                  Non-Null Count  Dtype         \n",
      "---  ------                  --------------  -----         \n",
      " 0   id                      2481 non-null   int64         \n",
      " 1   user_id                 2481 non-null   int64         \n",
      " 2   is_child                2481 non-null   bool          \n",
      " 3   rank_idx                2481 non-null   int64         \n",
      " 4   is_done                 2481 non-null   bool          \n",
      " 5   createdAt               2481 non-null   datetime64[ns]\n",
      " 6   updatedAt               2481 non-null   datetime64[ns]\n",
      " 7   is_deleted              2481 non-null   bool          \n",
      " 8   uuid                    2481 non-null   object        \n",
      " 9   text                    2481 non-null   object        \n",
      " 10  embedding               2396 non-null   object        \n",
      " 11  parent_item_id          675 non-null    float64       \n",
      " 12  event_id                39 non-null     object        \n",
      " 13  event_url               0 non-null      object        \n",
      " 14  scheduled_datetime_utc  179 non-null    datetime64[ns]\n",
      " 15  is_public               2481 non-null   bool          \n",
      " 16  flagged_reason          0 non-null      object        \n",
      " 17  is_flagged              2481 non-null   bool          \n",
      " 18  public_update_desc      38 non-null     object        \n",
      " 19  public_updatedAt        38 non-null     datetime64[ns]\n",
      " 20  doneAt                  330 non-null    datetime64[ns]\n",
      "dtypes: bool(5), datetime64[ns](5), float64(1), int64(3), object(7)\n",
      "memory usage: 322.4+ KB\n"
     ]
    }
   ],
   "source": [
    "tasks_df.info()"
   ]
  },
  {
   "cell_type": "markdown",
   "id": "fc0f72ad",
   "metadata": {},
   "source": [
    "### Data Set Creation"
   ]
  },
  {
   "cell_type": "code",
   "execution_count": 27,
   "id": "20d3d28a",
   "metadata": {},
   "outputs": [],
   "source": [
    "X_train, X_test, y_train, y_test = train_test_split(\n",
    "    tasks_df.drop(columns=['is_done']),\n",
    "    tasks_df['is_done'],\n",
    "    test_size=0.2,\n",
    "    random_state=42,\n",
    "    stratify=tasks_df['is_done'])"
   ]
  },
  {
   "cell_type": "code",
   "execution_count": 28,
   "id": "c1dabc98",
   "metadata": {},
   "outputs": [
    {
     "data": {
      "text/plain": [
       "((1984, 20), (497, 20), (1984,), (497,))"
      ]
     },
     "execution_count": 28,
     "metadata": {},
     "output_type": "execute_result"
    }
   ],
   "source": [
    "X_train.shape, X_test.shape, y_train.shape, y_test.shape"
   ]
  },
  {
   "cell_type": "markdown",
   "id": "c1bdf1cf",
   "metadata": {},
   "source": [
    "## Exploratory Data Analysis"
   ]
  },
  {
   "cell_type": "markdown",
   "id": "2134e73e",
   "metadata": {},
   "source": [
    "### Target Analysis (\"is_done\")"
   ]
  },
  {
   "cell_type": "markdown",
   "id": "992dd0b3",
   "metadata": {},
   "source": [
    "* Task completion rate is 27% completed\n",
    "* Class imbalance necessitates tuning for both Precision and Recall, with model likely biased towards majority (`is_done==0`) class"
   ]
  },
  {
   "cell_type": "code",
   "execution_count": 47,
   "id": "225ea014",
   "metadata": {},
   "outputs": [
    {
     "name": "stdout",
     "output_type": "stream",
     "text": [
      "Mean Task Completion Rate: is_done    0.270859\n",
      "dtype: float64\n"
     ]
    },
    {
     "data": {
      "image/png": "[encoded data removed]",
      "text/plain": [
       "<Figure size 640x480 with 1 Axes>"
      ]
     },
     "metadata": {},
     "output_type": "display_data"
    }
   ],
   "source": [
    "print(f\"Mean Task Completion Rate: {tasks_df[['is_done']].mean()}\")\n",
    "counts = tasks_df['is_done'].value_counts()\n",
    "counts.plot(kind='bar', title='Task Completion Distribution')\n",
    "for i in range(len(counts)):\n",
    "    plt.text(i, counts.iloc[i] + 20, counts.iloc[i], ha='center')\n",
    "plt.xlabel('is_done')\n",
    "plt.ylabel('Count')\n",
    "plt.show()"
   ]
  },
  {
   "cell_type": "markdown",
   "id": "f5bdf17e",
   "metadata": {},
   "source": [
    "### Parent/Child Status"
   ]
  },
  {
   "cell_type": "code",
   "execution_count": 25,
   "id": "0680755a",
   "metadata": {},
   "outputs": [],
   "source": [
    "tasks_df.drop(columns=['is_child'], inplace=True) # Drop 'is_child' as it was deprecated in favor of 'parent_item_id'"
   ]
  },
  {
   "cell_type": "code",
   "execution_count": 45,
   "id": "9102180e",
   "metadata": {},
   "outputs": [
    {
     "data": {
      "image/png": "[encoded data removed]",
      "text/plain": [
       "<Figure size 640x480 with 1 Axes>"
      ]
     },
     "metadata": {},
     "output_type": "display_data"
    }
   ],
   "source": [
    "tasks_df['has_parent'] = tasks_df['parent_item_id'].notnull()\n",
    "counts = tasks_df['has_parent'].value_counts()\n",
    "counts.plot(kind='bar', title='\"Tasks w/ Parent\" Distribution')\n",
    "for i in range(len(counts)):\n",
    "    plt.text(i, counts.iloc[i] + 20, counts.iloc[i], ha='center')\n",
    "plt.xlabel('has_parent')\n",
    "plt.ylabel('Count')\n",
    "plt.show()"
   ]
  },
  {
   "cell_type": "markdown",
   "id": "4fbf591f",
   "metadata": {},
   "source": [
    "### Public Status"
   ]
  },
  {
   "cell_type": "code",
   "execution_count": 43,
   "id": "847ef091",
   "metadata": {},
   "outputs": [
    {
     "data": {
      "image/png": "[encoded data removed]",
      "text/plain": [
       "<Figure size 640x480 with 1 Axes>"
      ]
     },
     "metadata": {},
     "output_type": "display_data"
    }
   ],
   "source": [
    "counts = tasks_df['is_public'].value_counts()\n",
    "counts.plot(kind='bar', title='Public Task Distribution')\n",
    "for i in range(len(counts)):\n",
    "    plt.text(i, counts.iloc[i] + 20, counts.iloc[i], ha='center')\n",
    "plt.xlabel('is_public')\n",
    "plt.ylabel('Count')\n",
    "plt.show()"
   ]
  },
  {
   "cell_type": "markdown",
   "id": "135610b5",
   "metadata": {},
   "source": [
    "------"
   ]
  },
  {
   "cell_type": "markdown",
   "id": "1871ce2e",
   "metadata": {},
   "source": [
    "##### Table of Contents Generator (Ignore)"
   ]
  },
  {
   "cell_type": "code",
   "execution_count": 31,
   "id": "334ae158",
   "metadata": {},
   "outputs": [
    {
     "name": "stdout",
     "output_type": "stream",
     "text": [
      "1. [Table of Contents](#Table-of-Contents)\n",
      "1. [Project Summary](#Project-Summary)\n",
      "    1. [What I Did](#What-I-Did)\n",
      "    1. [What I Learned](#What-I-Learned)\n",
      "    1. [Next Steps](#Next-Steps)\n",
      "1. [Source Data](#Source-Data)\n",
      "    1. [Data Set Creation](#Data-Set-Creation)\n",
      "1. [Exploratory Data Analysis](#Exploratory-Data-Analysis)\n",
      "    1. [Target Analysis (\"is_done\")](#Target-Analysis-is_done)\n",
      "    1. [Parent/Child Status](#ParentChild-Status)\n",
      "    1. [Public Status](#Public-Status)\n",
      "            1. [Table of Contents Generator (Ignore)](#Table-of-Contents-Generator-Ignore)\n"
     ]
    }
   ],
   "source": [
    "import json\n",
    "import re\n",
    "\n",
    "def slugify(text):\n",
    "    text = text.strip()\n",
    "    text = re.sub(r'[^\\w\\s\\-]', '', text)  # allow (), - and alphanumerics\n",
    "    return re.sub(r'[\\s]+', '-', text)\n",
    "\n",
    "def extract_headings(ipynb_path):\n",
    "    with open(ipynb_path, 'r', encoding='utf-8') as f:\n",
    "        nb = json.load(f)\n",
    "\n",
    "    toc_lines = [] # [\"## Table of Contents\\n\"]\n",
    "    for cell in nb['cells']:\n",
    "        if cell['cell_type'] == 'markdown':\n",
    "            for line in cell['source']:\n",
    "                match = re.match(r'^(#{2,6})\\s+(.*)', line)\n",
    "                if match:\n",
    "                    level = len(match.group(1)) - 1  # offset for nesting\n",
    "                    title = match.group(2).strip()\n",
    "                    anchor = slugify(title)\n",
    "                    indent = '    ' * (level - 1)\n",
    "                    toc_lines.append(f\"{indent}1. [{title}](#{anchor})\")\n",
    "\n",
    "    return '\\n'.join(toc_lines)\n",
    "\n",
    "# Example usage:\n",
    "toc = extract_headings(\"dootoo_item_prediction.ipynb\")\n",
    "print(toc)"
   ]
  },
  {
   "cell_type": "code",
   "execution_count": null,
   "id": "187ec47a",
   "metadata": {},
   "outputs": [],
   "source": []
  }
 ],
 "metadata": {
  "kernelspec": {
   "display_name": "dootoo_item_prediction-bxxed46J",
   "language": "python",
   "name": "python3"
  },
  "language_info": {
   "codemirror_mode": {
    "name": "ipython",
    "version": 3
   },
   "file_extension": ".py",
   "mimetype": "text/x-python",
   "name": "python",
   "nbconvert_exporter": "python",
   "pygments_lexer": "ipython3",
   "version": "3.12.3"
  }
 },
 "nbformat": 4,
 "nbformat_minor": 5
}
