{
 "cells": [
  {
   "cell_type": "markdown",
   "id": "b32976d9",
   "metadata": {},
   "source": [
    "<img src=\"https://dootoo.app/images/thoughtswork_banner.png\"/>"
   ]
  },
  {
   "cell_type": "markdown",
   "id": "a3fbce96",
   "metadata": {},
   "source": [
    "# DataTalks.club MLOps Zoomcamp Final Project: Task Completion Prediction"
   ]
  },
  {
   "cell_type": "markdown",
   "id": "9cc2c714",
   "metadata": {},
   "source": [
    "* **Author:** Paul Tongyoo\n",
    "* **Contact:** Message me on <a href=\"https://www.linkedin.com/in/paultongyoo/\">LinkedIn</a>\n",
    "* **Date:** July 7, 2025\n",
    "* **MLOps Zoomcamp Info:** <a href=\"https://datatalks.club/blog/mlops-zoomcamp.html\">MLOps Zoomcamp: MLOps Course & Certification</a>"
   ]
  },
  {
   "cell_type": "markdown",
   "id": "ab716a21",
   "metadata": {},
   "source": [
    "## Table of Contents"
   ]
  },
  {
   "cell_type": "markdown",
   "id": "c99b83f0",
   "metadata": {},
   "source": [
    "1. [Project Summary](#Project-Summary)\n",
    "    1. [What I Did](#What-I-Did)\n",
    "    1. [What I Learned](#What-I-Learned)\n",
    "    1. [Next Steps](#Next-Steps)"
   ]
  },
  {
   "cell_type": "markdown",
   "id": "043b748d",
   "metadata": {},
   "source": [
    "## Project Summary"
   ]
  },
  {
   "cell_type": "code",
   "execution_count": null,
   "id": "5c142bc0",
   "metadata": {},
   "outputs": [],
   "source": [
    "# TODO"
   ]
  },
  {
   "cell_type": "markdown",
   "id": "0ad60844",
   "metadata": {},
   "source": [
    "### What I Did"
   ]
  },
  {
   "cell_type": "code",
   "execution_count": null,
   "id": "cfe21115",
   "metadata": {},
   "outputs": [],
   "source": [
    "# TODO"
   ]
  },
  {
   "cell_type": "markdown",
   "id": "228c049c",
   "metadata": {
    "vscode": {
     "languageId": "plaintext"
    }
   },
   "source": [
    "### What I Learned"
   ]
  },
  {
   "cell_type": "code",
   "execution_count": null,
   "id": "18f5edfe",
   "metadata": {},
   "outputs": [],
   "source": [
    "# TODO"
   ]
  },
  {
   "cell_type": "markdown",
   "id": "4a43e913",
   "metadata": {
    "vscode": {
     "languageId": "plaintext"
    }
   },
   "source": [
    "### Next Steps"
   ]
  },
  {
   "cell_type": "code",
   "execution_count": null,
   "id": "882a3884",
   "metadata": {},
   "outputs": [],
   "source": [
    "# TODO"
   ]
  },
  {
   "cell_type": "markdown",
   "id": "7d80b06c",
   "metadata": {
    "vscode": {
     "languageId": "plaintext"
    }
   },
   "source": [
    "-------------"
   ]
  },
  {
   "cell_type": "markdown",
   "id": "bee03f26",
   "metadata": {},
   "source": [
    "## Source Data"
   ]
  },
  {
   "cell_type": "code",
   "execution_count": 4,
   "id": "f1dbc32e",
   "metadata": {},
   "outputs": [],
   "source": [
    "# TODO"
   ]
  },
  {
   "cell_type": "markdown",
   "id": "135610b5",
   "metadata": {},
   "source": [
    "------"
   ]
  },
  {
   "cell_type": "markdown",
   "id": "1871ce2e",
   "metadata": {},
   "source": [
    "##### Table of Contents Generator (Ignore)"
   ]
  },
  {
   "cell_type": "code",
   "execution_count": 2,
   "id": "334ae158",
   "metadata": {},
   "outputs": [
    {
     "name": "stdout",
     "output_type": "stream",
     "text": [
      "1. [Table of Contents](#Table-of-Contents)\n",
      "1. [Project Summary](#Project-Summary)\n",
      "    1. [What I Did](#What-I-Did)\n",
      "    1. [What I Learned](#What-I-Learned)\n",
      "    1. [Next Steps](#Next-Steps)\n"
     ]
    }
   ],
   "source": [
    "import json\n",
    "import re\n",
    "\n",
    "def slugify(text):\n",
    "    text = text.strip()\n",
    "    text = re.sub(r'[^\\w\\s\\-]', '', text)  # allow (), - and alphanumerics\n",
    "    return re.sub(r'[\\s]+', '-', text)\n",
    "\n",
    "def extract_headings(ipynb_path):\n",
    "    with open(ipynb_path, 'r', encoding='utf-8') as f:\n",
    "        nb = json.load(f)\n",
    "\n",
    "    toc_lines = [] # [\"## Table of Contents\\n\"]\n",
    "    for cell in nb['cells']:\n",
    "        if cell['cell_type'] == 'markdown':\n",
    "            for line in cell['source']:\n",
    "                match = re.match(r'^(#{2,6})\\s+(.*)', line)\n",
    "                if match:\n",
    "                    level = len(match.group(1)) - 1  # offset for nesting\n",
    "                    title = match.group(2).strip()\n",
    "                    anchor = slugify(title)\n",
    "                    indent = '    ' * (level - 1)\n",
    "                    toc_lines.append(f\"{indent}1. [{title}](#{anchor})\")\n",
    "\n",
    "    return '\\n'.join(toc_lines)\n",
    "\n",
    "# Example usage:\n",
    "toc = extract_headings(\"dootoo_item_prediction.ipynb\")\n",
    "print(toc)"
   ]
  }
 ],
 "metadata": {
  "kernelspec": {
   "display_name": "base",
   "language": "python",
   "name": "python3"
  },
  "language_info": {
   "codemirror_mode": {
    "name": "ipython",
    "version": 3
   },
   "file_extension": ".py",
   "mimetype": "text/x-python",
   "name": "python",
   "nbconvert_exporter": "python",
   "pygments_lexer": "ipython3",
   "version": "3.12.7"
  }
 },
 "nbformat": 4,
 "nbformat_minor": 5
}
